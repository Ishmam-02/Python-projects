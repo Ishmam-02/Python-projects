{
 "cells": [
  {
   "cell_type": "markdown",
   "id": "1362b7dd",
   "metadata": {},
   "source": [
    "# Password generator"
   ]
  },
  {
   "cell_type": "code",
   "execution_count": 1,
   "id": "299fb384",
   "metadata": {},
   "outputs": [],
   "source": [
    "import random"
   ]
  },
  {
   "cell_type": "code",
   "execution_count": 2,
   "id": "dfae7824",
   "metadata": {},
   "outputs": [
    {
     "name": "stdout",
     "output_type": "stream",
     "text": [
      "Your password: \n",
      "q5#p47d7kpv$3t?d\n"
     ]
    }
   ],
   "source": [
    "print ('Your password: ')\n",
    "\n",
    "chars = 'abcdefghijklmnopqrstuvwxyz1234567890!%&?*@#$€'\n",
    "\n",
    "password = ''\n",
    "for x in range(16):\n",
    "        password += random.choice(chars)\n",
    "        \n",
    "print (password)"
   ]
  }
 ],
 "metadata": {
  "kernelspec": {
   "display_name": "Python 3 (ipykernel)",
   "language": "python",
   "name": "python3"
  },
  "language_info": {
   "codemirror_mode": {
    "name": "ipython",
    "version": 3
   },
   "file_extension": ".py",
   "mimetype": "text/x-python",
   "name": "python",
   "nbconvert_exporter": "python",
   "pygments_lexer": "ipython3",
   "version": "3.9.13"
  }
 },
 "nbformat": 4,
 "nbformat_minor": 5
}
