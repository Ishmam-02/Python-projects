{
 "cells": [
  {
   "cell_type": "markdown",
   "id": "fe14f56e",
   "metadata": {},
   "source": [
    "# Digital clock"
   ]
  },
  {
   "cell_type": "code",
   "execution_count": 1,
   "id": "2d4df6a4",
   "metadata": {},
   "outputs": [],
   "source": [
    "from tkinter import *\n",
    "from time import strftime"
   ]
  },
  {
   "cell_type": "code",
   "execution_count": 2,
   "id": "c9f0c058",
   "metadata": {},
   "outputs": [],
   "source": [
    "myWindow = Tk()\n",
    "myWindow.title('Digital clock')\n",
    "def time():\n",
    "        myTime = strftime('%H:%M:%S %p')\n",
    "        clock.config(text = myTime)\n",
    "        clock.after(1000, time)\n",
    "clock = Label(myWindow, font = ('arial', 40, 'bold'),\n",
    "                                background = 'dark green',\n",
    "                                foreground = 'white')\n",
    "clock.pack(anchor = 'center')\n",
    "time()\n",
    "\n",
    "mainloop()"
   ]
  }
 ],
 "metadata": {
  "kernelspec": {
   "display_name": "Python 3 (ipykernel)",
   "language": "python",
   "name": "python3"
  },
  "language_info": {
   "codemirror_mode": {
    "name": "ipython",
    "version": 3
   },
   "file_extension": ".py",
   "mimetype": "text/x-python",
   "name": "python",
   "nbconvert_exporter": "python",
   "pygments_lexer": "ipython3",
   "version": "3.9.13"
  }
 },
 "nbformat": 4,
 "nbformat_minor": 5
}
